{
 "cells": [
  {
   "cell_type": "markdown",
   "id": "e123c110-97b5-43e9-9bb6-dd2fd3ae72a7",
   "metadata": {},
   "source": [
    "# \"어떤 유형의 사람들이 생존할 가능성이 더 높을까?\"\n",
    "## 분석과정\n",
    "1. 데이터 파일 다운로드\n",
    "2. 결측치, 이상치 확인 후 제거 또는 변환 + 필요없는 변수 제거\n",
    "3. 범주형 변수 -> 수치형 변수 변환 + 파생변수 생성\n",
    "4. 독립변수, 종속변수 나눈 후\n",
    "5. 훈련용, 테스트 데이터셋 분리\n",
    "6. 예측 모델 선택\n",
    "\n",
    "민주\n",
    "1. 성별에따른 객실등급에따른 나이에따른-->시각화\n",
    "2. 결측치 처리\n",
    "3. ..\n",
    "\n",
    "\n",
    "### 제출 파일 형식:\r\n",
    "정확히 418개의 항목과 헤더 행을 포함하는 CSV 파일을 제출해야 합니다. PassengerId및 를 초과하는 열 Survived이나 행이 있는 경우 제출 시 오류가 표시됩니다.\r\n",
    "\r\n",
    "파일에는 정확히 2개의 열이 있어야 합니다.\r\n",
    "\r\n",
    "PassengerId(순서에 상관없이)\r\n",
    "Survived(생존은 1, 사망은 0으로 이진 예측이 포함됩니다)"
   ]
  },
  {
   "cell_type": "markdown",
   "id": "46c41c22-d22b-4c06-aa8d-a68604316926",
   "metadata": {},
   "source": [
    "### 함수 memo\n",
    "1. axis=0: 행, axis=1: 열\n",
    "2. inplace=True: 원본 df 수정\n",
    "3. .map(): 다른 값으로 1:1 변환"
   ]
  },
  {
   "cell_type": "code",
   "execution_count": 120,
   "id": "84b6d9f0-6645-4606-9b8c-015f890ca7d8",
   "metadata": {},
   "outputs": [],
   "source": [
    "import pandas as pd"
   ]
  },
  {
   "cell_type": "code",
   "execution_count": 121,
   "id": "1fb1e712-207d-4350-b234-201e0a79c69f",
   "metadata": {},
   "outputs": [],
   "source": [
    "train=pd.read_csv(\"train.csv\")\n",
    "test=pd.read_csv(\"test.csv\")"
   ]
  },
  {
   "cell_type": "markdown",
   "id": "5049fd25-3738-41c2-836e-781800a1a3a1",
   "metadata": {},
   "source": [
    "### train데이터 결측치 확인"
   ]
  },
  {
   "cell_type": "code",
   "execution_count": 122,
   "id": "88aa76ea-e0c0-4719-ac02-ccfc62ff0564",
   "metadata": {},
   "outputs": [
    {
     "data": {
      "text/plain": [
       "PassengerId      0\n",
       "Survived         0\n",
       "Pclass           0\n",
       "Name             0\n",
       "Sex              0\n",
       "Age            177\n",
       "SibSp            0\n",
       "Parch            0\n",
       "Ticket           0\n",
       "Fare             0\n",
       "Cabin          687\n",
       "Embarked         2\n",
       "dtype: int64"
      ]
     },
     "execution_count": 122,
     "metadata": {},
     "output_type": "execute_result"
    }
   ],
   "source": [
    "train.isnull().sum()"
   ]
  },
  {
   "cell_type": "code",
   "execution_count": 123,
   "id": "145a8190-a575-406e-90a4-132304b6389c",
   "metadata": {},
   "outputs": [],
   "source": [
    "train[\"Age\"].fillna(train[\"Age\"].median(), inplace=True) #Age의 중앙값으로 결측치 대체"
   ]
  },
  {
   "cell_type": "code",
   "execution_count": 124,
   "id": "0e6668d4-1050-4b08-a2bc-6d3b2bbf50a3",
   "metadata": {},
   "outputs": [],
   "source": [
    "train.dropna(subset=[\"Cabin\"], inplace=True) #너무 많아서 변수가 의미없을 것으로 판단되어 그냥 변수 자체를 삭제"
   ]
  },
  {
   "cell_type": "code",
   "execution_count": 125,
   "id": "aee21d5d-6102-49c0-9b7a-9658a36a2655",
   "metadata": {},
   "outputs": [],
   "source": [
    "train.dropna(subset=['Embarked'], inplace=True) #2개밖에 안돼서 삭제"
   ]
  },
  {
   "cell_type": "code",
   "execution_count": 126,
   "id": "0a7adc0f-b10d-474a-90e2-361e848d7abc",
   "metadata": {},
   "outputs": [
    {
     "data": {
      "text/plain": [
       "PassengerId    0\n",
       "Survived       0\n",
       "Pclass         0\n",
       "Name           0\n",
       "Sex            0\n",
       "Age            0\n",
       "SibSp          0\n",
       "Parch          0\n",
       "Ticket         0\n",
       "Fare           0\n",
       "Cabin          0\n",
       "Embarked       0\n",
       "dtype: int64"
      ]
     },
     "execution_count": 126,
     "metadata": {},
     "output_type": "execute_result"
    }
   ],
   "source": [
    "train.isnull().sum()"
   ]
  },
  {
   "cell_type": "markdown",
   "id": "3ce26169-7f8a-48b9-9d81-2dd2850f7b2d",
   "metadata": {},
   "source": [
    "### train데이터 이상치 확인"
   ]
  },
  {
   "cell_type": "code",
   "execution_count": 127,
   "id": "c60ce1eb-64bd-4cb7-a4c3-c38b38ea674d",
   "metadata": {},
   "outputs": [
    {
     "data": {
      "image/png": "[encoded data removed]",
      "text/plain": [
       "<Figure size 1000x300 with 1 Axes>"
      ]
     },
     "metadata": {},
     "output_type": "display_data"
    }
   ],
   "source": [
    "#boxplot으로 이상치 확인\n",
    "\n",
    "import seaborn as sns\n",
    "import matplotlib.pyplot as plt\n",
    "\n",
    "num_cols=train.select_dtypes(include=[\"int64\", \"float64\"]).drop(columns=[\"PassengerId\"])\n",
    "\n",
    "plt.figure(figsize=(10, 3))\n",
    "sns.boxplot(data=num_cols)\n",
    "plt.show()"
   ]
  },
  {
   "cell_type": "code",
   "execution_count": 128,
   "id": "e94bfb75-5d47-4800-b2e2-81c39df27c71",
   "metadata": {},
   "outputs": [],
   "source": [
    "#boxplot상, 이상치 있어보이는거 파악하여 진짜인지 확인\n",
    "age_mean=train[\"Age\"].mean()\n",
    "age_std=train[\"Age\"].std()\n",
    "age_outliers=train.loc[(train[\"Age\"]> age_mean + 3*age_std) | (train[\"Age\"] < age_mean - 3*age_std), \"Age\"]\n",
    "\n",
    "sibsp_mean=train[\"SibSp\"].mean()\n",
    "sibsp_std=train[\"SibSp\"].std()\n",
    "sibsp_outliers=train.loc[(train[\"SibSp\"]> sibsp_mean + 3*sibsp_std) | (train[\"SibSp\"] < sibsp_mean - 3*sibsp_std), \"SibSp\"]\n",
    "\n",
    "parch_mean=train[\"Parch\"].mean()\n",
    "parch_std=train[\"Parch\"].std()\n",
    "parch_outliers=train.loc[(train[\"Parch\"]> parch_mean + 3*parch_std) | (train[\"Parch\"] < parch_mean - 3*parch_std), \"Parch\"]\n",
    "\n",
    "fare_mean=train[\"Fare\"].mean()\n",
    "fare_std=train[\"Fare\"].std()\n",
    "fare_outliers=train.loc[(train[\"Fare\"]> fare_mean + 3*fare_std) | (train[\"Fare\"] < fare_mean - 3*fare_std), \"Fare\"]"
   ]
  },
  {
   "cell_type": "code",
   "execution_count": 129,
   "id": "e9013aa2-f060-42fa-b435-993141d28069",
   "metadata": {},
   "outputs": [
    {
     "data": {
      "text/plain": [
       "2"
      ]
     },
     "execution_count": 129,
     "metadata": {},
     "output_type": "execute_result"
    }
   ],
   "source": [
    "fare_outliers.count() #나마지 다 0"
   ]
  },
  {
   "cell_type": "code",
   "execution_count": 130,
   "id": "aae9c58a-68b9-446e-9b71-ea06e07a8f0b",
   "metadata": {},
   "outputs": [],
   "source": [
    "fare_outliers=fare_mean"
   ]
  },
  {
   "cell_type": "markdown",
   "id": "081ec8aa-944a-4793-913f-dee527dd167f",
   "metadata": {},
   "source": [
    "### 필요없는 변수 제거"
   ]
  },
  {
   "cell_type": "code",
   "execution_count": 131,
   "id": "3e30212c-748b-43bc-ba36-65f0dd90c008",
   "metadata": {},
   "outputs": [],
   "source": [
    "train.drop(columns=[\"Ticket\", \"Name\"], inplace=True)"
   ]
  },
  {
   "cell_type": "markdown",
   "id": "4c0fde18-1588-4361-96cd-204b5164b999",
   "metadata": {},
   "source": [
    "### test데이터 결측치 확인"
   ]
  },
  {
   "cell_type": "code",
   "execution_count": 132,
   "id": "97296932-ea6c-4e68-a412-fbde9149667f",
   "metadata": {},
   "outputs": [
    {
     "data": {
      "text/plain": [
       "PassengerId      0\n",
       "Pclass           0\n",
       "Name             0\n",
       "Sex              0\n",
       "Age             86\n",
       "SibSp            0\n",
       "Parch            0\n",
       "Ticket           0\n",
       "Fare             1\n",
       "Cabin          327\n",
       "Embarked         0\n",
       "dtype: int64"
      ]
     },
     "execution_count": 132,
     "metadata": {},
     "output_type": "execute_result"
    }
   ],
   "source": [
    "test.isnull().sum() #age, fare, cabin"
   ]
  },
  {
   "cell_type": "code",
   "execution_count": 133,
   "id": "92e1e1e9-6713-4ed8-9f8f-3012c4e5ae19",
   "metadata": {},
   "outputs": [],
   "source": [
    "test[\"Age\"].fillna(test[\"Age\"].median(), inplace=True)"
   ]
  },
  {
   "cell_type": "code",
   "execution_count": 134,
   "id": "247ed8d5-ec65-4f18-a1fb-99d82b3cfd2e",
   "metadata": {},
   "outputs": [],
   "source": [
    "test.dropna(subset=[\"Fare\", \"Cabin\"], inplace=True)"
   ]
  },
  {
   "cell_type": "code",
   "execution_count": 135,
   "id": "c160d739-2925-4c5a-8e23-549744217747",
   "metadata": {},
   "outputs": [
    {
     "data": {
      "text/plain": [
       "PassengerId    0\n",
       "Pclass         0\n",
       "Name           0\n",
       "Sex            0\n",
       "Age            0\n",
       "SibSp          0\n",
       "Parch          0\n",
       "Ticket         0\n",
       "Fare           0\n",
       "Cabin          0\n",
       "Embarked       0\n",
       "dtype: int64"
      ]
     },
     "execution_count": 135,
     "metadata": {},
     "output_type": "execute_result"
    }
   ],
   "source": [
    "test.isnull().sum()"
   ]
  },
  {
   "cell_type": "markdown",
   "id": "99eb3889-1f54-45f4-babd-27fb874ec2af",
   "metadata": {},
   "source": [
    "### test데이터 이상치 확인"
   ]
  },
  {
   "cell_type": "code",
   "execution_count": 1,
   "id": "f39fbe3a-d954-45fe-a696-3a962b363f0a",
   "metadata": {},
   "outputs": [
    {
     "ename": "NameError",
     "evalue": "name 'test' is not defined",
     "output_type": "error",
     "traceback": [
      "\u001b[1;31m---------------------------------------------------------------------------\u001b[0m",
      "\u001b[1;31mNameError\u001b[0m                                 Traceback (most recent call last)",
      "Cell \u001b[1;32mIn[1], line 6\u001b[0m\n\u001b[0;32m      3\u001b[0m \u001b[38;5;28;01mimport\u001b[39;00m \u001b[38;5;21;01mseaborn\u001b[39;00m \u001b[38;5;28;01mas\u001b[39;00m \u001b[38;5;21;01msns\u001b[39;00m\n\u001b[0;32m      4\u001b[0m \u001b[38;5;28;01mimport\u001b[39;00m \u001b[38;5;21;01mmatplotlib\u001b[39;00m\u001b[38;5;21;01m.\u001b[39;00m\u001b[38;5;21;01mpyplot\u001b[39;00m \u001b[38;5;28;01mas\u001b[39;00m \u001b[38;5;21;01mplt\u001b[39;00m\n\u001b[1;32m----> 6\u001b[0m num_cols\u001b[38;5;241m=\u001b[39mtest\u001b[38;5;241m.\u001b[39mselect_dtypes(include\u001b[38;5;241m=\u001b[39m[\u001b[38;5;124m\"\u001b[39m\u001b[38;5;124mint64\u001b[39m\u001b[38;5;124m\"\u001b[39m, \u001b[38;5;124m\"\u001b[39m\u001b[38;5;124mfloat64\u001b[39m\u001b[38;5;124m\"\u001b[39m])\u001b[38;5;241m.\u001b[39mdrop(columns\u001b[38;5;241m=\u001b[39m[\u001b[38;5;124m\"\u001b[39m\u001b[38;5;124mPassengerId\u001b[39m\u001b[38;5;124m\"\u001b[39m])\n\u001b[0;32m      8\u001b[0m plt\u001b[38;5;241m.\u001b[39mfigure(figsize\u001b[38;5;241m=\u001b[39m(\u001b[38;5;241m10\u001b[39m, \u001b[38;5;241m3\u001b[39m))\n\u001b[0;32m      9\u001b[0m sns\u001b[38;5;241m.\u001b[39mboxplot(data\u001b[38;5;241m=\u001b[39mnum_cols)\n",
      "\u001b[1;31mNameError\u001b[0m: name 'test' is not defined"
     ]
    }
   ],
   "source": [
    "#boxplot으로 이상치 확인\n",
    "\n",
    "import seaborn as sns\n",
    "import matplotlib.pyplot as plt\n",
    "\n",
    "num_cols=test.select_dtypes(include=[\"int64\", \"float64\"]).drop(columns=[\"PassengerId\"])\n",
    "\n",
    "plt.figure(figsize=(10, 3))\n",
    "sns.boxplot(data=num_cols)\n",
    "plt.show()"
   ]
  },
  {
   "cell_type": "code",
   "execution_count": null,
   "id": "6ef91213-1ee5-4939-9f1b-35c146c9a357",
   "metadata": {},
   "outputs": [],
   "source": [
    "fare_mean=test[\"Fare\"].mean()\n",
    "fare_std=test[\"Fare\"].std()\n",
    "fare_outliers=test.loc[(test[\"Fare\"]> fare_mean + 3*fare_std) | (test[\"Fare\"] < fare_mean - 3*fare_std), \"Fare\"]"
   ]
  },
  {
   "cell_type": "code",
   "execution_count": null,
   "id": "a05b2932-bf5e-49b2-9e3e-c3ac562b0636",
   "metadata": {},
   "outputs": [],
   "source": [
    "fare_outliers.count()"
   ]
  },
  {
   "cell_type": "code",
   "execution_count": null,
   "id": "0a9c5a9c-acc0-46c1-a71f-12e771c57d3c",
   "metadata": {},
   "outputs": [],
   "source": [
    "fare_outliers=fare_mean"
   ]
  },
  {
   "cell_type": "markdown",
   "id": "52d674b1-d0eb-4689-9e54-6efc5e4674c5",
   "metadata": {},
   "source": [
    "### 필요없는 변수 제거"
   ]
  },
  {
   "cell_type": "code",
   "execution_count": 140,
   "id": "851b0740-133c-4333-88b3-b0b66a67385a",
   "metadata": {},
   "outputs": [],
   "source": [
    "test.drop(columns=[\"Ticket\", \"Name\"], inplace=True)"
   ]
  },
  {
   "cell_type": "markdown",
   "id": "804d63a9-d03c-4b7e-8e9f-a68c9526374c",
   "metadata": {},
   "source": [
    "### 범주형 변수, 파생변수 생성"
   ]
  },
  {
   "cell_type": "code",
   "execution_count": 141,
   "id": "aa16d6eb-80b6-4fdb-a24a-33fc7880b888",
   "metadata": {},
   "outputs": [],
   "source": [
    "train['Sex'] = train['Sex'].map({'male': 0, 'female': 1})\n",
    "\n",
    "# 문자 → 숫자\n",
    "train['Embarked'] = train['Embarked'].map({'C': 0, 'Q': 1, 'S': 2})"
   ]
  },
  {
   "cell_type": "code",
   "execution_count": 142,
   "id": "d4bcfdd8-f936-4c24-a963-541128f4623d",
   "metadata": {},
   "outputs": [],
   "source": [
    "test['Sex'] = test['Sex'].map({'male': 0, 'female': 1})\n",
    "\n",
    "# 문자 → 숫자\n",
    "test['Embarked'] = test['Embarked'].map({'C': 0, 'Q': 1, 'S': 2})"
   ]
  },
  {
   "cell_type": "code",
   "execution_count": 143,
   "id": "99a0e2d3-7d42-4a40-8008-8a95cc423eb8",
   "metadata": {},
   "outputs": [
    {
     "name": "stdout",
     "output_type": "stream",
     "text": [
      "<class 'pandas.core.frame.DataFrame'>\n",
      "Index: 202 entries, 1 to 889\n",
      "Data columns (total 10 columns):\n",
      " #   Column       Non-Null Count  Dtype  \n",
      "---  ------       --------------  -----  \n",
      " 0   PassengerId  202 non-null    int64  \n",
      " 1   Survived     202 non-null    int64  \n",
      " 2   Pclass       202 non-null    int64  \n",
      " 3   Sex          202 non-null    int64  \n",
      " 4   Age          202 non-null    float64\n",
      " 5   SibSp        202 non-null    int64  \n",
      " 6   Parch        202 non-null    int64  \n",
      " 7   Fare         202 non-null    float64\n",
      " 8   Cabin        202 non-null    object \n",
      " 9   Embarked     202 non-null    int64  \n",
      "dtypes: float64(2), int64(7), object(1)\n",
      "memory usage: 17.4+ KB\n"
     ]
    }
   ],
   "source": [
    "train.info()"
   ]
  },
  {
   "cell_type": "code",
   "execution_count": 144,
   "id": "9f73a7fd-e808-41a2-95ae-3b8e81b9ff9b",
   "metadata": {},
   "outputs": [
    {
     "name": "stdout",
     "output_type": "stream",
     "text": [
      "<class 'pandas.core.frame.DataFrame'>\n",
      "Index: 91 entries, 12 to 414\n",
      "Data columns (total 9 columns):\n",
      " #   Column       Non-Null Count  Dtype  \n",
      "---  ------       --------------  -----  \n",
      " 0   PassengerId  91 non-null     int64  \n",
      " 1   Pclass       91 non-null     int64  \n",
      " 2   Sex          91 non-null     int64  \n",
      " 3   Age          91 non-null     float64\n",
      " 4   SibSp        91 non-null     int64  \n",
      " 5   Parch        91 non-null     int64  \n",
      " 6   Fare         91 non-null     float64\n",
      " 7   Cabin        91 non-null     object \n",
      " 8   Embarked     91 non-null     int64  \n",
      "dtypes: float64(2), int64(6), object(1)\n",
      "memory usage: 7.1+ KB\n"
     ]
    }
   ],
   "source": [
    "test.info()"
   ]
  },
  {
   "cell_type": "markdown",
   "id": "50fada5d-44d6-4aa9-b32b-e60d78977684",
   "metadata": {},
   "source": [
    "### 독립변수, 종속변수 나누기"
   ]
  },
  {
   "cell_type": "code",
   "execution_count": 146,
   "id": "82b153f3-6846-4e56-8d06-63a0bac6ac5f",
   "metadata": {},
   "outputs": [],
   "source": [
    "# 종속변수 y (정답 레이블)\n",
    "y = train['Survived']\n",
    "\n",
    "# 독립변수 X (예측에 사용할 피처들)\n",
    "X = train.drop(columns=['Survived', 'PassengerId'])  # 생존 여부랑 아이디는 예측에 불필요"
   ]
  },
  {
   "cell_type": "markdown",
   "id": "bd465a63-73e2-435b-9742-4dca3c7a5869",
   "metadata": {},
   "source": [
    "### train_test_split"
   ]
  },
  {
   "cell_type": "code",
   "execution_count": 147,
   "id": "db56bff4-f88c-492a-928a-bd6e0c79d9ad",
   "metadata": {},
   "outputs": [],
   "source": [
    "from sklearn.model_selection import train_test_split\n",
    "\n",
    "# 데이터 분리\n",
    "X_train, X_val, y_train, y_val = train_test_split(\n",
    "    X, y,        # 전체 데이터와 라벨\n",
    "    test_size=0.2,  # 검증용으로 20% 사용\n",
    "    random_state=42 # 랜덤 고정 (재현 가능성)\n",
    ")"
   ]
  },
  {
   "cell_type": "markdown",
   "id": "7bdf77bd-6cb8-4290-9f20-d6397f35be45",
   "metadata": {},
   "source": [
    "### 회귀분석? 결정트리? 랜덤포레스트? SVM? --> RF가 가장 많이 사용된다고 함"
   ]
  },
  {
   "cell_type": "code",
   "execution_count": 151,
   "id": "1f8785b3-7bc2-42de-8973-16e86c5863e8",
   "metadata": {},
   "outputs": [],
   "source": [
    "train = pd.get_dummies(train, drop_first=True)\n",
    "test = pd.get_dummies(test, drop_first=True)"
   ]
  },
  {
   "cell_type": "code",
   "execution_count": 153,
   "id": "84317833-e2cc-47e2-940f-6fbf1b59fda0",
   "metadata": {},
   "outputs": [
    {
     "ename": "ValueError",
     "evalue": "could not convert string to float: 'C50'",
     "output_type": "error",
     "traceback": [
      "\u001b[1;31m---------------------------------------------------------------------------\u001b[0m",
      "\u001b[1;31mValueError\u001b[0m                                Traceback (most recent call last)",
      "Cell \u001b[1;32mIn[153], line 8\u001b[0m\n\u001b[0;32m      5\u001b[0m rf \u001b[38;5;241m=\u001b[39m RandomForestClassifier(n_estimators\u001b[38;5;241m=\u001b[39m\u001b[38;5;241m100\u001b[39m, random_state\u001b[38;5;241m=\u001b[39m\u001b[38;5;241m42\u001b[39m)\n\u001b[0;32m      7\u001b[0m \u001b[38;5;66;03m# 모델 학습\u001b[39;00m\n\u001b[1;32m----> 8\u001b[0m rf\u001b[38;5;241m.\u001b[39mfit(X_train, y_train)\n\u001b[0;32m     10\u001b[0m \u001b[38;5;66;03m# 검증 데이터로 예측\u001b[39;00m\n\u001b[0;32m     11\u001b[0m y_val_pred \u001b[38;5;241m=\u001b[39m rf\u001b[38;5;241m.\u001b[39mpredict(X_val)\n",
      "File \u001b[1;32m~\\anaconda3\\Lib\\site-packages\\sklearn\\ensemble\\_forest.py:345\u001b[0m, in \u001b[0;36mBaseForest.fit\u001b[1;34m(self, X, y, sample_weight)\u001b[0m\n\u001b[0;32m    343\u001b[0m \u001b[38;5;28;01mif\u001b[39;00m issparse(y):\n\u001b[0;32m    344\u001b[0m     \u001b[38;5;28;01mraise\u001b[39;00m \u001b[38;5;167;01mValueError\u001b[39;00m(\u001b[38;5;124m\"\u001b[39m\u001b[38;5;124msparse multilabel-indicator for y is not supported.\u001b[39m\u001b[38;5;124m\"\u001b[39m)\n\u001b[1;32m--> 345\u001b[0m X, y \u001b[38;5;241m=\u001b[39m \u001b[38;5;28mself\u001b[39m\u001b[38;5;241m.\u001b[39m_validate_data(\n\u001b[0;32m    346\u001b[0m     X, y, multi_output\u001b[38;5;241m=\u001b[39m\u001b[38;5;28;01mTrue\u001b[39;00m, accept_sparse\u001b[38;5;241m=\u001b[39m\u001b[38;5;124m\"\u001b[39m\u001b[38;5;124mcsc\u001b[39m\u001b[38;5;124m\"\u001b[39m, dtype\u001b[38;5;241m=\u001b[39mDTYPE\n\u001b[0;32m    347\u001b[0m )\n\u001b[0;32m    348\u001b[0m \u001b[38;5;28;01mif\u001b[39;00m sample_weight \u001b[38;5;129;01mis\u001b[39;00m \u001b[38;5;129;01mnot\u001b[39;00m \u001b[38;5;28;01mNone\u001b[39;00m:\n\u001b[0;32m    349\u001b[0m     sample_weight \u001b[38;5;241m=\u001b[39m _check_sample_weight(sample_weight, X)\n",
      "File \u001b[1;32m~\\anaconda3\\Lib\\site-packages\\sklearn\\base.py:584\u001b[0m, in \u001b[0;36mBaseEstimator._validate_data\u001b[1;34m(self, X, y, reset, validate_separately, **check_params)\u001b[0m\n\u001b[0;32m    582\u001b[0m         y \u001b[38;5;241m=\u001b[39m check_array(y, input_name\u001b[38;5;241m=\u001b[39m\u001b[38;5;124m\"\u001b[39m\u001b[38;5;124my\u001b[39m\u001b[38;5;124m\"\u001b[39m, \u001b[38;5;241m*\u001b[39m\u001b[38;5;241m*\u001b[39mcheck_y_params)\n\u001b[0;32m    583\u001b[0m     \u001b[38;5;28;01melse\u001b[39;00m:\n\u001b[1;32m--> 584\u001b[0m         X, y \u001b[38;5;241m=\u001b[39m check_X_y(X, y, \u001b[38;5;241m*\u001b[39m\u001b[38;5;241m*\u001b[39mcheck_params)\n\u001b[0;32m    585\u001b[0m     out \u001b[38;5;241m=\u001b[39m X, y\n\u001b[0;32m    587\u001b[0m \u001b[38;5;28;01mif\u001b[39;00m \u001b[38;5;129;01mnot\u001b[39;00m no_val_X \u001b[38;5;129;01mand\u001b[39;00m check_params\u001b[38;5;241m.\u001b[39mget(\u001b[38;5;124m\"\u001b[39m\u001b[38;5;124mensure_2d\u001b[39m\u001b[38;5;124m\"\u001b[39m, \u001b[38;5;28;01mTrue\u001b[39;00m):\n",
      "File \u001b[1;32m~\\anaconda3\\Lib\\site-packages\\sklearn\\utils\\validation.py:1106\u001b[0m, in \u001b[0;36mcheck_X_y\u001b[1;34m(X, y, accept_sparse, accept_large_sparse, dtype, order, copy, force_all_finite, ensure_2d, allow_nd, multi_output, ensure_min_samples, ensure_min_features, y_numeric, estimator)\u001b[0m\n\u001b[0;32m   1101\u001b[0m         estimator_name \u001b[38;5;241m=\u001b[39m _check_estimator_name(estimator)\n\u001b[0;32m   1102\u001b[0m     \u001b[38;5;28;01mraise\u001b[39;00m \u001b[38;5;167;01mValueError\u001b[39;00m(\n\u001b[0;32m   1103\u001b[0m         \u001b[38;5;124mf\u001b[39m\u001b[38;5;124m\"\u001b[39m\u001b[38;5;132;01m{\u001b[39;00mestimator_name\u001b[38;5;132;01m}\u001b[39;00m\u001b[38;5;124m requires y to be passed, but the target y is None\u001b[39m\u001b[38;5;124m\"\u001b[39m\n\u001b[0;32m   1104\u001b[0m     )\n\u001b[1;32m-> 1106\u001b[0m X \u001b[38;5;241m=\u001b[39m check_array(\n\u001b[0;32m   1107\u001b[0m     X,\n\u001b[0;32m   1108\u001b[0m     accept_sparse\u001b[38;5;241m=\u001b[39maccept_sparse,\n\u001b[0;32m   1109\u001b[0m     accept_large_sparse\u001b[38;5;241m=\u001b[39maccept_large_sparse,\n\u001b[0;32m   1110\u001b[0m     dtype\u001b[38;5;241m=\u001b[39mdtype,\n\u001b[0;32m   1111\u001b[0m     order\u001b[38;5;241m=\u001b[39morder,\n\u001b[0;32m   1112\u001b[0m     copy\u001b[38;5;241m=\u001b[39mcopy,\n\u001b[0;32m   1113\u001b[0m     force_all_finite\u001b[38;5;241m=\u001b[39mforce_all_finite,\n\u001b[0;32m   1114\u001b[0m     ensure_2d\u001b[38;5;241m=\u001b[39mensure_2d,\n\u001b[0;32m   1115\u001b[0m     allow_nd\u001b[38;5;241m=\u001b[39mallow_nd,\n\u001b[0;32m   1116\u001b[0m     ensure_min_samples\u001b[38;5;241m=\u001b[39mensure_min_samples,\n\u001b[0;32m   1117\u001b[0m     ensure_min_features\u001b[38;5;241m=\u001b[39mensure_min_features,\n\u001b[0;32m   1118\u001b[0m     estimator\u001b[38;5;241m=\u001b[39mestimator,\n\u001b[0;32m   1119\u001b[0m     input_name\u001b[38;5;241m=\u001b[39m\u001b[38;5;124m\"\u001b[39m\u001b[38;5;124mX\u001b[39m\u001b[38;5;124m\"\u001b[39m,\n\u001b[0;32m   1120\u001b[0m )\n\u001b[0;32m   1122\u001b[0m y \u001b[38;5;241m=\u001b[39m _check_y(y, multi_output\u001b[38;5;241m=\u001b[39mmulti_output, y_numeric\u001b[38;5;241m=\u001b[39my_numeric, estimator\u001b[38;5;241m=\u001b[39mestimator)\n\u001b[0;32m   1124\u001b[0m check_consistent_length(X, y)\n",
      "File \u001b[1;32m~\\anaconda3\\Lib\\site-packages\\sklearn\\utils\\validation.py:879\u001b[0m, in \u001b[0;36mcheck_array\u001b[1;34m(array, accept_sparse, accept_large_sparse, dtype, order, copy, force_all_finite, ensure_2d, allow_nd, ensure_min_samples, ensure_min_features, estimator, input_name)\u001b[0m\n\u001b[0;32m    877\u001b[0m         array \u001b[38;5;241m=\u001b[39m xp\u001b[38;5;241m.\u001b[39mastype(array, dtype, copy\u001b[38;5;241m=\u001b[39m\u001b[38;5;28;01mFalse\u001b[39;00m)\n\u001b[0;32m    878\u001b[0m     \u001b[38;5;28;01melse\u001b[39;00m:\n\u001b[1;32m--> 879\u001b[0m         array \u001b[38;5;241m=\u001b[39m _asarray_with_order(array, order\u001b[38;5;241m=\u001b[39morder, dtype\u001b[38;5;241m=\u001b[39mdtype, xp\u001b[38;5;241m=\u001b[39mxp)\n\u001b[0;32m    880\u001b[0m \u001b[38;5;28;01mexcept\u001b[39;00m ComplexWarning \u001b[38;5;28;01mas\u001b[39;00m complex_warning:\n\u001b[0;32m    881\u001b[0m     \u001b[38;5;28;01mraise\u001b[39;00m \u001b[38;5;167;01mValueError\u001b[39;00m(\n\u001b[0;32m    882\u001b[0m         \u001b[38;5;124m\"\u001b[39m\u001b[38;5;124mComplex data not supported\u001b[39m\u001b[38;5;130;01m\\n\u001b[39;00m\u001b[38;5;132;01m{}\u001b[39;00m\u001b[38;5;130;01m\\n\u001b[39;00m\u001b[38;5;124m\"\u001b[39m\u001b[38;5;241m.\u001b[39mformat(array)\n\u001b[0;32m    883\u001b[0m     ) \u001b[38;5;28;01mfrom\u001b[39;00m \u001b[38;5;21;01mcomplex_warning\u001b[39;00m\n",
      "File \u001b[1;32m~\\anaconda3\\Lib\\site-packages\\sklearn\\utils\\_array_api.py:185\u001b[0m, in \u001b[0;36m_asarray_with_order\u001b[1;34m(array, dtype, order, copy, xp)\u001b[0m\n\u001b[0;32m    182\u001b[0m     xp, _ \u001b[38;5;241m=\u001b[39m get_namespace(array)\n\u001b[0;32m    183\u001b[0m \u001b[38;5;28;01mif\u001b[39;00m xp\u001b[38;5;241m.\u001b[39m\u001b[38;5;18m__name__\u001b[39m \u001b[38;5;129;01min\u001b[39;00m {\u001b[38;5;124m\"\u001b[39m\u001b[38;5;124mnumpy\u001b[39m\u001b[38;5;124m\"\u001b[39m, \u001b[38;5;124m\"\u001b[39m\u001b[38;5;124mnumpy.array_api\u001b[39m\u001b[38;5;124m\"\u001b[39m}:\n\u001b[0;32m    184\u001b[0m     \u001b[38;5;66;03m# Use NumPy API to support order\u001b[39;00m\n\u001b[1;32m--> 185\u001b[0m     array \u001b[38;5;241m=\u001b[39m numpy\u001b[38;5;241m.\u001b[39masarray(array, order\u001b[38;5;241m=\u001b[39morder, dtype\u001b[38;5;241m=\u001b[39mdtype)\n\u001b[0;32m    186\u001b[0m     \u001b[38;5;28;01mreturn\u001b[39;00m xp\u001b[38;5;241m.\u001b[39masarray(array, copy\u001b[38;5;241m=\u001b[39mcopy)\n\u001b[0;32m    187\u001b[0m \u001b[38;5;28;01melse\u001b[39;00m:\n",
      "File \u001b[1;32m~\\anaconda3\\Lib\\site-packages\\pandas\\core\\generic.py:2084\u001b[0m, in \u001b[0;36mNDFrame.__array__\u001b[1;34m(self, dtype)\u001b[0m\n\u001b[0;32m   2082\u001b[0m \u001b[38;5;28;01mdef\u001b[39;00m \u001b[38;5;21m__array__\u001b[39m(\u001b[38;5;28mself\u001b[39m, dtype: npt\u001b[38;5;241m.\u001b[39mDTypeLike \u001b[38;5;241m|\u001b[39m \u001b[38;5;28;01mNone\u001b[39;00m \u001b[38;5;241m=\u001b[39m \u001b[38;5;28;01mNone\u001b[39;00m) \u001b[38;5;241m-\u001b[39m\u001b[38;5;241m>\u001b[39m np\u001b[38;5;241m.\u001b[39mndarray:\n\u001b[0;32m   2083\u001b[0m     values \u001b[38;5;241m=\u001b[39m \u001b[38;5;28mself\u001b[39m\u001b[38;5;241m.\u001b[39m_values\n\u001b[1;32m-> 2084\u001b[0m     arr \u001b[38;5;241m=\u001b[39m np\u001b[38;5;241m.\u001b[39masarray(values, dtype\u001b[38;5;241m=\u001b[39mdtype)\n\u001b[0;32m   2085\u001b[0m     \u001b[38;5;28;01mif\u001b[39;00m (\n\u001b[0;32m   2086\u001b[0m         astype_is_view(values\u001b[38;5;241m.\u001b[39mdtype, arr\u001b[38;5;241m.\u001b[39mdtype)\n\u001b[0;32m   2087\u001b[0m         \u001b[38;5;129;01mand\u001b[39;00m using_copy_on_write()\n\u001b[0;32m   2088\u001b[0m         \u001b[38;5;129;01mand\u001b[39;00m \u001b[38;5;28mself\u001b[39m\u001b[38;5;241m.\u001b[39m_mgr\u001b[38;5;241m.\u001b[39mis_single_block\n\u001b[0;32m   2089\u001b[0m     ):\n\u001b[0;32m   2090\u001b[0m         \u001b[38;5;66;03m# Check if both conversions can be done without a copy\u001b[39;00m\n\u001b[0;32m   2091\u001b[0m         \u001b[38;5;28;01mif\u001b[39;00m astype_is_view(\u001b[38;5;28mself\u001b[39m\u001b[38;5;241m.\u001b[39mdtypes\u001b[38;5;241m.\u001b[39miloc[\u001b[38;5;241m0\u001b[39m], values\u001b[38;5;241m.\u001b[39mdtype) \u001b[38;5;129;01mand\u001b[39;00m astype_is_view(\n\u001b[0;32m   2092\u001b[0m             values\u001b[38;5;241m.\u001b[39mdtype, arr\u001b[38;5;241m.\u001b[39mdtype\n\u001b[0;32m   2093\u001b[0m         ):\n",
      "\u001b[1;31mValueError\u001b[0m: could not convert string to float: 'C50'"
     ]
    }
   ],
   "source": [
    "from sklearn.ensemble import RandomForestClassifier\n",
    "from sklearn.metrics import accuracy_score\n",
    "\n",
    "# 랜덤 포레스트 모델 생성\n",
    "rf = RandomForestClassifier(n_estimators=100, random_state=42)\n",
    "\n",
    "# 모델 학습\n",
    "rf.fit(X_train, y_train)\n",
    "\n",
    "# 검증 데이터로 예측\n",
    "y_val_pred = rf.predict(X_val)\n",
    "\n",
    "# 정확도 계산\n",
    "accuracy = accuracy_score(y_val, y_val_pred)\n",
    "print(f'Validation Accuracy: {accuracy:.4f}')\n"
   ]
  },
  {
   "cell_type": "code",
   "execution_count": 154,
   "id": "5e94bcc9-cc71-4f25-a03e-aa46905c63e1",
   "metadata": {},
   "outputs": [
    {
     "name": "stdout",
     "output_type": "stream",
     "text": [
      "Training Data Performance:\n"
     ]
    },
    {
     "ename": "NameError",
     "evalue": "name 'y_train_pred' is not defined",
     "output_type": "error",
     "traceback": [
      "\u001b[1;31m---------------------------------------------------------------------------\u001b[0m",
      "\u001b[1;31mNameError\u001b[0m                                 Traceback (most recent call last)",
      "Cell \u001b[1;32mIn[154], line 5\u001b[0m\n\u001b[0;32m      3\u001b[0m \u001b[38;5;66;03m# 훈련 데이터와 테스트 데이터의 성능 평가\u001b[39;00m\n\u001b[0;32m      4\u001b[0m \u001b[38;5;28mprint\u001b[39m(\u001b[38;5;124m\"\u001b[39m\u001b[38;5;124mTraining Data Performance:\u001b[39m\u001b[38;5;124m\"\u001b[39m)\n\u001b[1;32m----> 5\u001b[0m \u001b[38;5;28mprint\u001b[39m(confusion_matrix(y_train, y_train_pred))\n\u001b[0;32m      6\u001b[0m \u001b[38;5;28mprint\u001b[39m(classification_report(y_train, y_train_pred))\n\u001b[0;32m      8\u001b[0m \u001b[38;5;28mprint\u001b[39m(\u001b[38;5;124m\"\u001b[39m\u001b[38;5;124mTest Data Performance:\u001b[39m\u001b[38;5;124m\"\u001b[39m)\n",
      "\u001b[1;31mNameError\u001b[0m: name 'y_train_pred' is not defined"
     ]
    }
   ],
   "source": [
    "from sklearn.metrics import confusion_matrix, classification_report\n",
    "\n",
    "# 훈련 데이터와 테스트 데이터의 성능 평가\n",
    "print(\"Training Data Performance:\")\n",
    "print(confusion_matrix(y_train, y_train_pred))\n",
    "print(classification_report(y_train, y_train_pred))\n",
    "\n",
    "print(\"Test Data Performance:\")\n",
    "print(confusion_matrix(y_test, y_test_pred))\n",
    "print(classification_report(y_test, y_test_pred))"
   ]
  },
  {
   "cell_type": "code",
   "execution_count": null,
   "id": "5058aee1-d179-440f-8337-751f25682e97",
   "metadata": {},
   "outputs": [],
   "source": [
    "pred = model.predict(X_test)\n",
    "\n",
    "submission = pd.DataFrame({\n",
    "    'PassengerId': test['PassengerId'],\n",
    "    'Survived': pred\n",
    "})\n",
    "\n",
    "submission.to_csv('submission.csv', index=False)"
   ]
  },
  {
   "cell_type": "markdown",
   "id": "22e07a14-c55e-4dd6-9498-f36263aa72e7",
   "metadata": {},
   "source": [
    "흠 지난주에 빠져서 어뜨케 되어가고잇는지모르겟음 물어봐야징..ㅜㅜ"
   ]
  },
  {
   "cell_type": "code",
   "execution_count": null,
   "id": "7b6109e6-4b80-43f6-a912-8786205b9bdb",
   "metadata": {},
   "outputs": [],
   "source": []
  }
 ],
 "metadata": {
  "kernelspec": {
   "display_name": "Python 3 (ipykernel)",
   "language": "python",
   "name": "python3"
  },
  "language_info": {
   "codemirror_mode": {
    "name": "ipython",
    "version": 3
   },
   "file_extension": ".py",
   "mimetype": "text/x-python",
   "name": "python",
   "nbconvert_exporter": "python",
   "pygments_lexer": "ipython3",
   "version": "3.11.7"
  }
 },
 "nbformat": 4,
 "nbformat_minor": 5
}
